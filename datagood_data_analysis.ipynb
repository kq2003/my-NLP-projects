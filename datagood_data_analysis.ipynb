{
  "nbformat": 4,
  "nbformat_minor": 0,
  "metadata": {
    "colab": {
      "provenance": []
    },
    "kernelspec": {
      "name": "python3",
      "display_name": "Python 3"
    },
    "language_info": {
      "name": "python"
    }
  },
  "cells": [
    {
      "cell_type": "code",
      "execution_count": null,
      "metadata": {
        "id": "ZaKukzRCIOuM"
      },
      "outputs": [],
      "source": [
        "import numpy as np\n",
        "\n",
        "import pandas as pd\n",
        "from pandas.api.types import CategoricalDtype\n",
        "\n",
        "%matplotlib inline\n",
        "import matplotlib.pyplot as plt\n",
        "import seaborn as sns"
      ]
    },
    {
      "cell_type": "code",
      "source": [
        "data_2014 = pd.read_csv(\"datagood.csv\")\n",
        "data_2008 = pd.read_csv('datagood2008.csv')"
      ],
      "metadata": {
        "id": "I43f07MYIwBl"
      },
      "execution_count": null,
      "outputs": []
    },
    {
      "cell_type": "code",
      "source": [
        "from google.colab import files\n",
        "uploaded = files.upload()"
      ],
      "metadata": {
        "colab": {
          "base_uri": "https://localhost:8080/",
          "height": 112
        },
        "id": "6I9r54fwI9_t",
        "outputId": "f5cca557-e3de-467a-9c4a-cc850b2932ef"
      },
      "execution_count": null,
      "outputs": [
        {
          "output_type": "display_data",
          "data": {
            "text/plain": [
              "<IPython.core.display.HTML object>"
            ],
            "text/html": [
              "\n",
              "     <input type=\"file\" id=\"files-6d5e9444-ec87-47c7-9825-b67217e722d3\" name=\"files[]\" multiple disabled\n",
              "        style=\"border:none\" />\n",
              "     <output id=\"result-6d5e9444-ec87-47c7-9825-b67217e722d3\">\n",
              "      Upload widget is only available when the cell has been executed in the\n",
              "      current browser session. Please rerun this cell to enable.\n",
              "      </output>\n",
              "      <script>// Copyright 2017 Google LLC\n",
              "//\n",
              "// Licensed under the Apache License, Version 2.0 (the \"License\");\n",
              "// you may not use this file except in compliance with the License.\n",
              "// You may obtain a copy of the License at\n",
              "//\n",
              "//      http://www.apache.org/licenses/LICENSE-2.0\n",
              "//\n",
              "// Unless required by applicable law or agreed to in writing, software\n",
              "// distributed under the License is distributed on an \"AS IS\" BASIS,\n",
              "// WITHOUT WARRANTIES OR CONDITIONS OF ANY KIND, either express or implied.\n",
              "// See the License for the specific language governing permissions and\n",
              "// limitations under the License.\n",
              "\n",
              "/**\n",
              " * @fileoverview Helpers for google.colab Python module.\n",
              " */\n",
              "(function(scope) {\n",
              "function span(text, styleAttributes = {}) {\n",
              "  const element = document.createElement('span');\n",
              "  element.textContent = text;\n",
              "  for (const key of Object.keys(styleAttributes)) {\n",
              "    element.style[key] = styleAttributes[key];\n",
              "  }\n",
              "  return element;\n",
              "}\n",
              "\n",
              "// Max number of bytes which will be uploaded at a time.\n",
              "const MAX_PAYLOAD_SIZE = 100 * 1024;\n",
              "\n",
              "function _uploadFiles(inputId, outputId) {\n",
              "  const steps = uploadFilesStep(inputId, outputId);\n",
              "  const outputElement = document.getElementById(outputId);\n",
              "  // Cache steps on the outputElement to make it available for the next call\n",
              "  // to uploadFilesContinue from Python.\n",
              "  outputElement.steps = steps;\n",
              "\n",
              "  return _uploadFilesContinue(outputId);\n",
              "}\n",
              "\n",
              "// This is roughly an async generator (not supported in the browser yet),\n",
              "// where there are multiple asynchronous steps and the Python side is going\n",
              "// to poll for completion of each step.\n",
              "// This uses a Promise to block the python side on completion of each step,\n",
              "// then passes the result of the previous step as the input to the next step.\n",
              "function _uploadFilesContinue(outputId) {\n",
              "  const outputElement = document.getElementById(outputId);\n",
              "  const steps = outputElement.steps;\n",
              "\n",
              "  const next = steps.next(outputElement.lastPromiseValue);\n",
              "  return Promise.resolve(next.value.promise).then((value) => {\n",
              "    // Cache the last promise value to make it available to the next\n",
              "    // step of the generator.\n",
              "    outputElement.lastPromiseValue = value;\n",
              "    return next.value.response;\n",
              "  });\n",
              "}\n",
              "\n",
              "/**\n",
              " * Generator function which is called between each async step of the upload\n",
              " * process.\n",
              " * @param {string} inputId Element ID of the input file picker element.\n",
              " * @param {string} outputId Element ID of the output display.\n",
              " * @return {!Iterable<!Object>} Iterable of next steps.\n",
              " */\n",
              "function* uploadFilesStep(inputId, outputId) {\n",
              "  const inputElement = document.getElementById(inputId);\n",
              "  inputElement.disabled = false;\n",
              "\n",
              "  const outputElement = document.getElementById(outputId);\n",
              "  outputElement.innerHTML = '';\n",
              "\n",
              "  const pickedPromise = new Promise((resolve) => {\n",
              "    inputElement.addEventListener('change', (e) => {\n",
              "      resolve(e.target.files);\n",
              "    });\n",
              "  });\n",
              "\n",
              "  const cancel = document.createElement('button');\n",
              "  inputElement.parentElement.appendChild(cancel);\n",
              "  cancel.textContent = 'Cancel upload';\n",
              "  const cancelPromise = new Promise((resolve) => {\n",
              "    cancel.onclick = () => {\n",
              "      resolve(null);\n",
              "    };\n",
              "  });\n",
              "\n",
              "  // Wait for the user to pick the files.\n",
              "  const files = yield {\n",
              "    promise: Promise.race([pickedPromise, cancelPromise]),\n",
              "    response: {\n",
              "      action: 'starting',\n",
              "    }\n",
              "  };\n",
              "\n",
              "  cancel.remove();\n",
              "\n",
              "  // Disable the input element since further picks are not allowed.\n",
              "  inputElement.disabled = true;\n",
              "\n",
              "  if (!files) {\n",
              "    return {\n",
              "      response: {\n",
              "        action: 'complete',\n",
              "      }\n",
              "    };\n",
              "  }\n",
              "\n",
              "  for (const file of files) {\n",
              "    const li = document.createElement('li');\n",
              "    li.append(span(file.name, {fontWeight: 'bold'}));\n",
              "    li.append(span(\n",
              "        `(${file.type || 'n/a'}) - ${file.size} bytes, ` +\n",
              "        `last modified: ${\n",
              "            file.lastModifiedDate ? file.lastModifiedDate.toLocaleDateString() :\n",
              "                                    'n/a'} - `));\n",
              "    const percent = span('0% done');\n",
              "    li.appendChild(percent);\n",
              "\n",
              "    outputElement.appendChild(li);\n",
              "\n",
              "    const fileDataPromise = new Promise((resolve) => {\n",
              "      const reader = new FileReader();\n",
              "      reader.onload = (e) => {\n",
              "        resolve(e.target.result);\n",
              "      };\n",
              "      reader.readAsArrayBuffer(file);\n",
              "    });\n",
              "    // Wait for the data to be ready.\n",
              "    let fileData = yield {\n",
              "      promise: fileDataPromise,\n",
              "      response: {\n",
              "        action: 'continue',\n",
              "      }\n",
              "    };\n",
              "\n",
              "    // Use a chunked sending to avoid message size limits. See b/62115660.\n",
              "    let position = 0;\n",
              "    do {\n",
              "      const length = Math.min(fileData.byteLength - position, MAX_PAYLOAD_SIZE);\n",
              "      const chunk = new Uint8Array(fileData, position, length);\n",
              "      position += length;\n",
              "\n",
              "      const base64 = btoa(String.fromCharCode.apply(null, chunk));\n",
              "      yield {\n",
              "        response: {\n",
              "          action: 'append',\n",
              "          file: file.name,\n",
              "          data: base64,\n",
              "        },\n",
              "      };\n",
              "\n",
              "      let percentDone = fileData.byteLength === 0 ?\n",
              "          100 :\n",
              "          Math.round((position / fileData.byteLength) * 100);\n",
              "      percent.textContent = `${percentDone}% done`;\n",
              "\n",
              "    } while (position < fileData.byteLength);\n",
              "  }\n",
              "\n",
              "  // All done.\n",
              "  yield {\n",
              "    response: {\n",
              "      action: 'complete',\n",
              "    }\n",
              "  };\n",
              "}\n",
              "\n",
              "scope.google = scope.google || {};\n",
              "scope.google.colab = scope.google.colab || {};\n",
              "scope.google.colab._files = {\n",
              "  _uploadFiles,\n",
              "  _uploadFilesContinue,\n",
              "};\n",
              "})(self);\n",
              "</script> "
            ]
          },
          "metadata": {}
        },
        {
          "output_type": "stream",
          "name": "stdout",
          "text": [
            "Saving datagood.csv to datagood.csv\n",
            "Saving datagood2008.csv to datagood2008 (1).csv\n"
          ]
        }
      ]
    },
    {
      "cell_type": "code",
      "source": [
        "from google.colab import files\n",
        "uploaded = files.upload()"
      ],
      "metadata": {
        "colab": {
          "base_uri": "https://localhost:8080/",
          "height": 42
        },
        "id": "WSQrjH0CAEA-",
        "outputId": "04a4cd6e-1c26-4ee6-9aca-80e3db43aa3d"
      },
      "execution_count": null,
      "outputs": [
        {
          "output_type": "display_data",
          "data": {
            "text/plain": [
              "<IPython.core.display.HTML object>"
            ],
            "text/html": [
              "\n",
              "     <input type=\"file\" id=\"files-f528ee93-2435-4bae-9105-2d25b8881683\" name=\"files[]\" multiple disabled\n",
              "        style=\"border:none\" />\n",
              "     <output id=\"result-f528ee93-2435-4bae-9105-2d25b8881683\">\n",
              "      Upload widget is only available when the cell has been executed in the\n",
              "      current browser session. Please rerun this cell to enable.\n",
              "      </output>\n",
              "      <script>// Copyright 2017 Google LLC\n",
              "//\n",
              "// Licensed under the Apache License, Version 2.0 (the \"License\");\n",
              "// you may not use this file except in compliance with the License.\n",
              "// You may obtain a copy of the License at\n",
              "//\n",
              "//      http://www.apache.org/licenses/LICENSE-2.0\n",
              "//\n",
              "// Unless required by applicable law or agreed to in writing, software\n",
              "// distributed under the License is distributed on an \"AS IS\" BASIS,\n",
              "// WITHOUT WARRANTIES OR CONDITIONS OF ANY KIND, either express or implied.\n",
              "// See the License for the specific language governing permissions and\n",
              "// limitations under the License.\n",
              "\n",
              "/**\n",
              " * @fileoverview Helpers for google.colab Python module.\n",
              " */\n",
              "(function(scope) {\n",
              "function span(text, styleAttributes = {}) {\n",
              "  const element = document.createElement('span');\n",
              "  element.textContent = text;\n",
              "  for (const key of Object.keys(styleAttributes)) {\n",
              "    element.style[key] = styleAttributes[key];\n",
              "  }\n",
              "  return element;\n",
              "}\n",
              "\n",
              "// Max number of bytes which will be uploaded at a time.\n",
              "const MAX_PAYLOAD_SIZE = 100 * 1024;\n",
              "\n",
              "function _uploadFiles(inputId, outputId) {\n",
              "  const steps = uploadFilesStep(inputId, outputId);\n",
              "  const outputElement = document.getElementById(outputId);\n",
              "  // Cache steps on the outputElement to make it available for the next call\n",
              "  // to uploadFilesContinue from Python.\n",
              "  outputElement.steps = steps;\n",
              "\n",
              "  return _uploadFilesContinue(outputId);\n",
              "}\n",
              "\n",
              "// This is roughly an async generator (not supported in the browser yet),\n",
              "// where there are multiple asynchronous steps and the Python side is going\n",
              "// to poll for completion of each step.\n",
              "// This uses a Promise to block the python side on completion of each step,\n",
              "// then passes the result of the previous step as the input to the next step.\n",
              "function _uploadFilesContinue(outputId) {\n",
              "  const outputElement = document.getElementById(outputId);\n",
              "  const steps = outputElement.steps;\n",
              "\n",
              "  const next = steps.next(outputElement.lastPromiseValue);\n",
              "  return Promise.resolve(next.value.promise).then((value) => {\n",
              "    // Cache the last promise value to make it available to the next\n",
              "    // step of the generator.\n",
              "    outputElement.lastPromiseValue = value;\n",
              "    return next.value.response;\n",
              "  });\n",
              "}\n",
              "\n",
              "/**\n",
              " * Generator function which is called between each async step of the upload\n",
              " * process.\n",
              " * @param {string} inputId Element ID of the input file picker element.\n",
              " * @param {string} outputId Element ID of the output display.\n",
              " * @return {!Iterable<!Object>} Iterable of next steps.\n",
              " */\n",
              "function* uploadFilesStep(inputId, outputId) {\n",
              "  const inputElement = document.getElementById(inputId);\n",
              "  inputElement.disabled = false;\n",
              "\n",
              "  const outputElement = document.getElementById(outputId);\n",
              "  outputElement.innerHTML = '';\n",
              "\n",
              "  const pickedPromise = new Promise((resolve) => {\n",
              "    inputElement.addEventListener('change', (e) => {\n",
              "      resolve(e.target.files);\n",
              "    });\n",
              "  });\n",
              "\n",
              "  const cancel = document.createElement('button');\n",
              "  inputElement.parentElement.appendChild(cancel);\n",
              "  cancel.textContent = 'Cancel upload';\n",
              "  const cancelPromise = new Promise((resolve) => {\n",
              "    cancel.onclick = () => {\n",
              "      resolve(null);\n",
              "    };\n",
              "  });\n",
              "\n",
              "  // Wait for the user to pick the files.\n",
              "  const files = yield {\n",
              "    promise: Promise.race([pickedPromise, cancelPromise]),\n",
              "    response: {\n",
              "      action: 'starting',\n",
              "    }\n",
              "  };\n",
              "\n",
              "  cancel.remove();\n",
              "\n",
              "  // Disable the input element since further picks are not allowed.\n",
              "  inputElement.disabled = true;\n",
              "\n",
              "  if (!files) {\n",
              "    return {\n",
              "      response: {\n",
              "        action: 'complete',\n",
              "      }\n",
              "    };\n",
              "  }\n",
              "\n",
              "  for (const file of files) {\n",
              "    const li = document.createElement('li');\n",
              "    li.append(span(file.name, {fontWeight: 'bold'}));\n",
              "    li.append(span(\n",
              "        `(${file.type || 'n/a'}) - ${file.size} bytes, ` +\n",
              "        `last modified: ${\n",
              "            file.lastModifiedDate ? file.lastModifiedDate.toLocaleDateString() :\n",
              "                                    'n/a'} - `));\n",
              "    const percent = span('0% done');\n",
              "    li.appendChild(percent);\n",
              "\n",
              "    outputElement.appendChild(li);\n",
              "\n",
              "    const fileDataPromise = new Promise((resolve) => {\n",
              "      const reader = new FileReader();\n",
              "      reader.onload = (e) => {\n",
              "        resolve(e.target.result);\n",
              "      };\n",
              "      reader.readAsArrayBuffer(file);\n",
              "    });\n",
              "    // Wait for the data to be ready.\n",
              "    let fileData = yield {\n",
              "      promise: fileDataPromise,\n",
              "      response: {\n",
              "        action: 'continue',\n",
              "      }\n",
              "    };\n",
              "\n",
              "    // Use a chunked sending to avoid message size limits. See b/62115660.\n",
              "    let position = 0;\n",
              "    do {\n",
              "      const length = Math.min(fileData.byteLength - position, MAX_PAYLOAD_SIZE);\n",
              "      const chunk = new Uint8Array(fileData, position, length);\n",
              "      position += length;\n",
              "\n",
              "      const base64 = btoa(String.fromCharCode.apply(null, chunk));\n",
              "      yield {\n",
              "        response: {\n",
              "          action: 'append',\n",
              "          file: file.name,\n",
              "          data: base64,\n",
              "        },\n",
              "      };\n",
              "\n",
              "      let percentDone = fileData.byteLength === 0 ?\n",
              "          100 :\n",
              "          Math.round((position / fileData.byteLength) * 100);\n",
              "      percent.textContent = `${percentDone}% done`;\n",
              "\n",
              "    } while (position < fileData.byteLength);\n",
              "  }\n",
              "\n",
              "  // All done.\n",
              "  yield {\n",
              "    response: {\n",
              "      action: 'complete',\n",
              "    }\n",
              "  };\n",
              "}\n",
              "\n",
              "scope.google = scope.google || {};\n",
              "scope.google.colab = scope.google.colab || {};\n",
              "scope.google.colab._files = {\n",
              "  _uploadFiles,\n",
              "  _uploadFilesContinue,\n",
              "};\n",
              "})(self);\n",
              "</script> "
            ]
          },
          "metadata": {}
        }
      ]
    },
    {
      "cell_type": "code",
      "source": [
        "d2014 = data_2014.loc[2:].rename(columns={\"What year did you begin teaching? (approximate is ok)\": \"year begin teach\", \"As a result of CRS support and services (including NewsBlast emails, free BASIS scientist in-class presentations, resource guide mailings, online resources, personalized on-call support, Field Trip for Teacher events, etc.) I was able to:\": \"increase amount of science teach?\",\n",
        "                             \"Unnamed: 3\": \"how effective science activities engage kids\",\n",
        "                             \"Unnamed: 4\": \"add science lesson lesson/field trip/other for kids\",\n",
        "                             \"Unnamed: 5\": \"incorporate science with art/math\",\n",
        "                             \"Unnamed: 6\": \"become more informed about science resources\",\n",
        "                             \"Unnamed: 7\": \"feel more confident professionally\",\n",
        "                             \"Unnamed: 8\": \"more enthusiastic about science and science teaching\",\n",
        "                             \"Unnamed: 9\": \"know where to find more information about science lession and content\",\n",
        "                             \"Unnamed: 10\": \"know where to ask for resources\",\n",
        "                             \"Unnamed: 11\": \"attend a local science professional development to develop my skills and knowledge\",\n",
        "                             \"Did you have a BASIS Scientist Volunteer program in your classroom this year?\": \"BASIS science volunteer program?\",\n",
        "                             \"How many hours of science do you teach per month?\" : \"science teaching hours per month?\",\n",
        "                             \"Do you think this amount of science teaching is ________\": \"teaching too much/ too little\",\n",
        "                             \"I feel my principal supports the importance of science teaching.\" : \"principle supports science teaching?\",\n",
        "                             \"My students respond positively to science experiences\": \"students respond positively to science experiences?\"})"
      ],
      "metadata": {
        "id": "Zea7G2I5PPGG"
      },
      "execution_count": null,
      "outputs": []
    },
    {
      "cell_type": "code",
      "source": [
        "library2014 = {\"What year did you begin teaching? (approximate is ok)\": \"year begin teach\", \"As a result of CRS support and services (including NewsBlast emails, free BASIS scientist in-class presentations, resource guide mailings, online resources, personalized on-call support, Field Trip for Teacher events, etc.) I was able to:\": \"increase amount of science teach?\",\n",
        "                             \"Unnamed: 3\": \"how effective science activities engage kids\",\n",
        "                             \"Unnamed: 4\": \"add science lesson lesson/field trip/other for kids\",\n",
        "                             \"Unnamed: 5\": \"incorporate science with art/math\",\n",
        "                             \"Unnamed: 6\": \"become more informed about science resources\",\n",
        "                             \"Unnamed: 7\": \"feel more confident professionally\",\n",
        "                             \"Unnamed: 8\": \"more enthusiastic about science and science teaching\",\n",
        "                             \"Unnamed: 9\": \"know where to find more information about science lession and content\",\n",
        "                             \"Unnamed: 10\": \"know where to ask for resources\",\n",
        "                             \"Unnamed: 11\": \"attend a local science professional development to develop my skills and knowledge\",\n",
        "                             \"Did you have a BASIS Scientist Volunteer program in your classroom this year?\": \"BASIS science volunteer program?\",\n",
        "                             \"How many hours of science do you teach per month?\" : \"science teaching hours per month?\",\n",
        "                             \"Do you think this amount of science teaching is ________\": \"teaching too much/ too little\",\n",
        "                             \"I feel my principal supports the importance of science teaching.\" : \"principle supports science teaching?\",\n",
        "                             \"My students respond positively to science experiences\": \"students respond positively to science experiences?\"}"
      ],
      "metadata": {
        "id": "OkfC0loP6ELK"
      },
      "execution_count": null,
      "outputs": []
    },
    {
      "cell_type": "code",
      "source": [
        "list(library2014.values())"
      ],
      "metadata": {
        "colab": {
          "base_uri": "https://localhost:8080/"
        },
        "id": "Rc56SDAm6GJt",
        "outputId": "884fe7b7-ba96-47bb-830b-8474c555dd62"
      },
      "execution_count": null,
      "outputs": [
        {
          "output_type": "execute_result",
          "data": {
            "text/plain": [
              "['year begin teach',\n",
              " 'increase amount of science teach?',\n",
              " 'how effective science activities engage kids',\n",
              " 'add science lesson lesson/field trip/other for kids',\n",
              " 'incorporate science with art/math',\n",
              " 'become more informed about science resources',\n",
              " 'feel more confident professionally',\n",
              " 'more enthusiastic about science and science teaching',\n",
              " 'know where to find more information about science lession and content',\n",
              " 'know where to ask for resources',\n",
              " 'attend a local science professional development to develop my skills and knowledge',\n",
              " 'BASIS science volunteer program?',\n",
              " 'science teaching hours per month?',\n",
              " 'teaching too much/ too little',\n",
              " 'principle supports science teaching?',\n",
              " 'students respond positively to science experiences?']"
            ]
          },
          "metadata": {},
          "execution_count": 7
        }
      ]
    },
    {
      "cell_type": "code",
      "source": [
        "d2014.shape"
      ],
      "metadata": {
        "colab": {
          "base_uri": "https://localhost:8080/"
        },
        "id": "ca_U3qGrPo2i",
        "outputId": "3ad3520f-9fb6-44a9-f592-5e8208f524a0"
      },
      "execution_count": null,
      "outputs": [
        {
          "output_type": "execute_result",
          "data": {
            "text/plain": [
              "(60, 17)"
            ]
          },
          "metadata": {},
          "execution_count": 8
        }
      ]
    },
    {
      "cell_type": "code",
      "source": [
        "d2014.head(5)"
      ],
      "metadata": {
        "colab": {
          "base_uri": "https://localhost:8080/",
          "height": 843
        },
        "id": "f49qu79RTufR",
        "outputId": "5de2327c-fa5a-43c9-ed49-2dff38410ece"
      },
      "execution_count": null,
      "outputs": [
        {
          "output_type": "execute_result",
          "data": {
            "text/plain": [
              "            DISTRICT                        year begin teach  \\\n",
              "2            Oakland  I've been teaching for 6 years or more   \n",
              "3            Oakland            I've been teaching 3-5 years   \n",
              "4  West Contra Costa  I've been teaching for 6 years or more   \n",
              "5            Oakland  I've been teaching for 6 years or more   \n",
              "6            Oakland  I've been teaching for 6 years or more   \n",
              "\n",
              "  increase amount of science teach?  \\\n",
              "2                              Yes!   \n",
              "3                              Yes!   \n",
              "4                              Yes!   \n",
              "5                              Yes!   \n",
              "6                              Yes!   \n",
              "\n",
              "  how effective science activities engage kids  \\\n",
              "2                                         Yes!   \n",
              "3                                         Yes!   \n",
              "4                                         Yes!   \n",
              "5                                         Yes!   \n",
              "6                                         Yes!   \n",
              "\n",
              "  add science lesson lesson/field trip/other for kids  \\\n",
              "2                                               Yes!    \n",
              "3                                               Yes!    \n",
              "4                                               Yes!    \n",
              "5                                               Yes!    \n",
              "6                                               Yes!    \n",
              "\n",
              "  incorporate science with art/math  \\\n",
              "2                              Yes!   \n",
              "3                              Yes!   \n",
              "4                              Yes!   \n",
              "5                         No impact   \n",
              "6                              Yes!   \n",
              "\n",
              "  become more informed about science resources  \\\n",
              "2                                         Yes!   \n",
              "3                                         Yes!   \n",
              "4                                         Yes!   \n",
              "5                                         Yes!   \n",
              "6                                         Yes!   \n",
              "\n",
              "  feel more confident professionally  \\\n",
              "2                               Yes!   \n",
              "3                               Yes!   \n",
              "4                               Yes!   \n",
              "5                               Yes!   \n",
              "6                               Yes!   \n",
              "\n",
              "  more enthusiastic about science and science teaching  \\\n",
              "2                                               Yes!     \n",
              "3                                               Yes!     \n",
              "4                                               Yes!     \n",
              "5                                               Yes!     \n",
              "6                                               Yes!     \n",
              "\n",
              "  know where to find more information about science lession and content  \\\n",
              "2                                               Yes!                      \n",
              "3                                               Yes!                      \n",
              "4                                               Yes!                      \n",
              "5                                               Yes!                      \n",
              "6                                          No impact                      \n",
              "\n",
              "  know where to ask for resources  \\\n",
              "2                            Yes!   \n",
              "3                            Yes!   \n",
              "4                            Yes!   \n",
              "5                            Yes!   \n",
              "6                       No impact   \n",
              "\n",
              "  attend a local science professional development to develop my skills and knowledge  \\\n",
              "2                                               Yes!                                   \n",
              "3                                               Yes!                                   \n",
              "4                                               Yes!                                   \n",
              "5                                                NaN                                   \n",
              "6                                          No impact                                   \n",
              "\n",
              "  BASIS science volunteer program? science teaching hours per month?  \\\n",
              "2                              Yes                   8 hours or more   \n",
              "3                               No                   8 hours or more   \n",
              "4                               No                   8 hours or more   \n",
              "5                               No                   8 hours or more   \n",
              "6                              Yes                   8 hours or more   \n",
              "\n",
              "  teaching too much/ too little  \\\n",
              "2                    too little   \n",
              "3                    too little   \n",
              "4                    too little   \n",
              "5                    too little   \n",
              "6                    too little   \n",
              "\n",
              "                principle supports science teaching?  \\\n",
              "2                                            Neutral   \n",
              "3  No, actively (directs staff to spend more time...   \n",
              "4  Yes, actively (provides planning time, encoura...   \n",
              "5  Yes, actively (provides planning time, encoura...   \n",
              "6                   Yes, tacitly (not a major focus)   \n",
              "\n",
              "  students respond positively to science experiences?  \n",
              "2                                              Agree   \n",
              "3                                              Agree   \n",
              "4                                              Agree   \n",
              "5                                              Agree   \n",
              "6                                              Agree   "
            ],
            "text/html": [
              "\n",
              "  <div id=\"df-19b0b724-4e73-4d43-87ee-48ae7abd80ae\">\n",
              "    <div class=\"colab-df-container\">\n",
              "      <div>\n",
              "<style scoped>\n",
              "    .dataframe tbody tr th:only-of-type {\n",
              "        vertical-align: middle;\n",
              "    }\n",
              "\n",
              "    .dataframe tbody tr th {\n",
              "        vertical-align: top;\n",
              "    }\n",
              "\n",
              "    .dataframe thead th {\n",
              "        text-align: right;\n",
              "    }\n",
              "</style>\n",
              "<table border=\"1\" class=\"dataframe\">\n",
              "  <thead>\n",
              "    <tr style=\"text-align: right;\">\n",
              "      <th></th>\n",
              "      <th>DISTRICT</th>\n",
              "      <th>year begin teach</th>\n",
              "      <th>increase amount of science teach?</th>\n",
              "      <th>how effective science activities engage kids</th>\n",
              "      <th>add science lesson lesson/field trip/other for kids</th>\n",
              "      <th>incorporate science with art/math</th>\n",
              "      <th>become more informed about science resources</th>\n",
              "      <th>feel more confident professionally</th>\n",
              "      <th>more enthusiastic about science and science teaching</th>\n",
              "      <th>know where to find more information about science lession and content</th>\n",
              "      <th>know where to ask for resources</th>\n",
              "      <th>attend a local science professional development to develop my skills and knowledge</th>\n",
              "      <th>BASIS science volunteer program?</th>\n",
              "      <th>science teaching hours per month?</th>\n",
              "      <th>teaching too much/ too little</th>\n",
              "      <th>principle supports science teaching?</th>\n",
              "      <th>students respond positively to science experiences?</th>\n",
              "    </tr>\n",
              "  </thead>\n",
              "  <tbody>\n",
              "    <tr>\n",
              "      <th>2</th>\n",
              "      <td>Oakland</td>\n",
              "      <td>I've been teaching for 6 years or more</td>\n",
              "      <td>Yes!</td>\n",
              "      <td>Yes!</td>\n",
              "      <td>Yes!</td>\n",
              "      <td>Yes!</td>\n",
              "      <td>Yes!</td>\n",
              "      <td>Yes!</td>\n",
              "      <td>Yes!</td>\n",
              "      <td>Yes!</td>\n",
              "      <td>Yes!</td>\n",
              "      <td>Yes!</td>\n",
              "      <td>Yes</td>\n",
              "      <td>8 hours or more</td>\n",
              "      <td>too little</td>\n",
              "      <td>Neutral</td>\n",
              "      <td>Agree</td>\n",
              "    </tr>\n",
              "    <tr>\n",
              "      <th>3</th>\n",
              "      <td>Oakland</td>\n",
              "      <td>I've been teaching 3-5 years</td>\n",
              "      <td>Yes!</td>\n",
              "      <td>Yes!</td>\n",
              "      <td>Yes!</td>\n",
              "      <td>Yes!</td>\n",
              "      <td>Yes!</td>\n",
              "      <td>Yes!</td>\n",
              "      <td>Yes!</td>\n",
              "      <td>Yes!</td>\n",
              "      <td>Yes!</td>\n",
              "      <td>Yes!</td>\n",
              "      <td>No</td>\n",
              "      <td>8 hours or more</td>\n",
              "      <td>too little</td>\n",
              "      <td>No, actively (directs staff to spend more time...</td>\n",
              "      <td>Agree</td>\n",
              "    </tr>\n",
              "    <tr>\n",
              "      <th>4</th>\n",
              "      <td>West Contra Costa</td>\n",
              "      <td>I've been teaching for 6 years or more</td>\n",
              "      <td>Yes!</td>\n",
              "      <td>Yes!</td>\n",
              "      <td>Yes!</td>\n",
              "      <td>Yes!</td>\n",
              "      <td>Yes!</td>\n",
              "      <td>Yes!</td>\n",
              "      <td>Yes!</td>\n",
              "      <td>Yes!</td>\n",
              "      <td>Yes!</td>\n",
              "      <td>Yes!</td>\n",
              "      <td>No</td>\n",
              "      <td>8 hours or more</td>\n",
              "      <td>too little</td>\n",
              "      <td>Yes, actively (provides planning time, encoura...</td>\n",
              "      <td>Agree</td>\n",
              "    </tr>\n",
              "    <tr>\n",
              "      <th>5</th>\n",
              "      <td>Oakland</td>\n",
              "      <td>I've been teaching for 6 years or more</td>\n",
              "      <td>Yes!</td>\n",
              "      <td>Yes!</td>\n",
              "      <td>Yes!</td>\n",
              "      <td>No impact</td>\n",
              "      <td>Yes!</td>\n",
              "      <td>Yes!</td>\n",
              "      <td>Yes!</td>\n",
              "      <td>Yes!</td>\n",
              "      <td>Yes!</td>\n",
              "      <td>NaN</td>\n",
              "      <td>No</td>\n",
              "      <td>8 hours or more</td>\n",
              "      <td>too little</td>\n",
              "      <td>Yes, actively (provides planning time, encoura...</td>\n",
              "      <td>Agree</td>\n",
              "    </tr>\n",
              "    <tr>\n",
              "      <th>6</th>\n",
              "      <td>Oakland</td>\n",
              "      <td>I've been teaching for 6 years or more</td>\n",
              "      <td>Yes!</td>\n",
              "      <td>Yes!</td>\n",
              "      <td>Yes!</td>\n",
              "      <td>Yes!</td>\n",
              "      <td>Yes!</td>\n",
              "      <td>Yes!</td>\n",
              "      <td>Yes!</td>\n",
              "      <td>No impact</td>\n",
              "      <td>No impact</td>\n",
              "      <td>No impact</td>\n",
              "      <td>Yes</td>\n",
              "      <td>8 hours or more</td>\n",
              "      <td>too little</td>\n",
              "      <td>Yes, tacitly (not a major focus)</td>\n",
              "      <td>Agree</td>\n",
              "    </tr>\n",
              "  </tbody>\n",
              "</table>\n",
              "</div>\n",
              "      <button class=\"colab-df-convert\" onclick=\"convertToInteractive('df-19b0b724-4e73-4d43-87ee-48ae7abd80ae')\"\n",
              "              title=\"Convert this dataframe to an interactive table.\"\n",
              "              style=\"display:none;\">\n",
              "        \n",
              "  <svg xmlns=\"http://www.w3.org/2000/svg\" height=\"24px\"viewBox=\"0 0 24 24\"\n",
              "       width=\"24px\">\n",
              "    <path d=\"M0 0h24v24H0V0z\" fill=\"none\"/>\n",
              "    <path d=\"M18.56 5.44l.94 2.06.94-2.06 2.06-.94-2.06-.94-.94-2.06-.94 2.06-2.06.94zm-11 1L8.5 8.5l.94-2.06 2.06-.94-2.06-.94L8.5 2.5l-.94 2.06-2.06.94zm10 10l.94 2.06.94-2.06 2.06-.94-2.06-.94-.94-2.06-.94 2.06-2.06.94z\"/><path d=\"M17.41 7.96l-1.37-1.37c-.4-.4-.92-.59-1.43-.59-.52 0-1.04.2-1.43.59L10.3 9.45l-7.72 7.72c-.78.78-.78 2.05 0 2.83L4 21.41c.39.39.9.59 1.41.59.51 0 1.02-.2 1.41-.59l7.78-7.78 2.81-2.81c.8-.78.8-2.07 0-2.86zM5.41 20L4 18.59l7.72-7.72 1.47 1.35L5.41 20z\"/>\n",
              "  </svg>\n",
              "      </button>\n",
              "      \n",
              "  <style>\n",
              "    .colab-df-container {\n",
              "      display:flex;\n",
              "      flex-wrap:wrap;\n",
              "      gap: 12px;\n",
              "    }\n",
              "\n",
              "    .colab-df-convert {\n",
              "      background-color: #E8F0FE;\n",
              "      border: none;\n",
              "      border-radius: 50%;\n",
              "      cursor: pointer;\n",
              "      display: none;\n",
              "      fill: #1967D2;\n",
              "      height: 32px;\n",
              "      padding: 0 0 0 0;\n",
              "      width: 32px;\n",
              "    }\n",
              "\n",
              "    .colab-df-convert:hover {\n",
              "      background-color: #E2EBFA;\n",
              "      box-shadow: 0px 1px 2px rgba(60, 64, 67, 0.3), 0px 1px 3px 1px rgba(60, 64, 67, 0.15);\n",
              "      fill: #174EA6;\n",
              "    }\n",
              "\n",
              "    [theme=dark] .colab-df-convert {\n",
              "      background-color: #3B4455;\n",
              "      fill: #D2E3FC;\n",
              "    }\n",
              "\n",
              "    [theme=dark] .colab-df-convert:hover {\n",
              "      background-color: #434B5C;\n",
              "      box-shadow: 0px 1px 3px 1px rgba(0, 0, 0, 0.15);\n",
              "      filter: drop-shadow(0px 1px 2px rgba(0, 0, 0, 0.3));\n",
              "      fill: #FFFFFF;\n",
              "    }\n",
              "  </style>\n",
              "\n",
              "      <script>\n",
              "        const buttonEl =\n",
              "          document.querySelector('#df-19b0b724-4e73-4d43-87ee-48ae7abd80ae button.colab-df-convert');\n",
              "        buttonEl.style.display =\n",
              "          google.colab.kernel.accessAllowed ? 'block' : 'none';\n",
              "\n",
              "        async function convertToInteractive(key) {\n",
              "          const element = document.querySelector('#df-19b0b724-4e73-4d43-87ee-48ae7abd80ae');\n",
              "          const dataTable =\n",
              "            await google.colab.kernel.invokeFunction('convertToInteractive',\n",
              "                                                     [key], {});\n",
              "          if (!dataTable) return;\n",
              "\n",
              "          const docLinkHtml = 'Like what you see? Visit the ' +\n",
              "            '<a target=\"_blank\" href=https://colab.research.google.com/notebooks/data_table.ipynb>data table notebook</a>'\n",
              "            + ' to learn more about interactive tables.';\n",
              "          element.innerHTML = '';\n",
              "          dataTable['output_type'] = 'display_data';\n",
              "          await google.colab.output.renderOutput(dataTable, element);\n",
              "          const docLink = document.createElement('div');\n",
              "          docLink.innerHTML = docLinkHtml;\n",
              "          element.appendChild(docLink);\n",
              "        }\n",
              "      </script>\n",
              "    </div>\n",
              "  </div>\n",
              "  "
            ]
          },
          "metadata": {},
          "execution_count": 9
        }
      ]
    },
    {
      "cell_type": "code",
      "source": [
        "for i in np.arange(17):\n",
        "  print(d2014.iloc[:, i].isna().sum())"
      ],
      "metadata": {
        "colab": {
          "base_uri": "https://localhost:8080/"
        },
        "id": "5op-kW9HTICO",
        "outputId": "aa584a2b-236b-4849-fa37-791a6151b4c8"
      },
      "execution_count": null,
      "outputs": [
        {
          "output_type": "stream",
          "name": "stdout",
          "text": [
            "0\n",
            "1\n",
            "3\n",
            "3\n",
            "3\n",
            "4\n",
            "3\n",
            "13\n",
            "12\n",
            "12\n",
            "12\n",
            "15\n",
            "2\n",
            "3\n",
            "3\n",
            "3\n",
            "3\n"
          ]
        }
      ]
    },
    {
      "cell_type": "code",
      "source": [
        "d2014.iloc[:, 1].unique()\n"
      ],
      "metadata": {
        "colab": {
          "base_uri": "https://localhost:8080/"
        },
        "id": "6YgWzzQ9UG3e",
        "outputId": "c15cfcbb-c48f-4ed7-9263-eee0f4ab4647"
      },
      "execution_count": null,
      "outputs": [
        {
          "output_type": "execute_result",
          "data": {
            "text/plain": [
              "array([\"I've been teaching for 6 years or more\",\n",
              "       \"I've been teaching 3-5 years\", 'This is my first or second year',\n",
              "       nan], dtype=object)"
            ]
          },
          "metadata": {},
          "execution_count": 11
        }
      ]
    },
    {
      "cell_type": "markdown",
      "source": [
        "visualization of 2014-15 data:"
      ],
      "metadata": {
        "id": "k1qpOSut_rN5"
      }
    },
    {
      "cell_type": "code",
      "source": [
        "def see_visualization(data, index):\n",
        "  data_now = pd.get_dummies(data.iloc[:, index].dropna())\n",
        "  sns.barplot(data = data_now).set(title=list(library2014.values())[index - 1])\n",
        "# random_try = pd.get_dummies(data_transformed.iloc[:, 1])\n",
        "# sns.barplot(data=random_try)\n",
        "plt.figure(figsize=(16,8))\n",
        "for i in np.arange(len(d2014.columns) - 1):\n",
        "  see_visualization(d2014, 15)"
      ],
      "metadata": {
        "colab": {
          "base_uri": "https://localhost:8080/",
          "height": 499
        },
        "id": "876eWLXmUewR",
        "outputId": "a18a0bbf-962f-4e50-a830-a78ca51d20fc"
      },
      "execution_count": null,
      "outputs": [
        {
          "output_type": "display_data",
          "data": {
            "text/plain": [
              "<Figure size 1152x576 with 1 Axes>"
            ],
            "image/png": "[encoded data removed]"
          },
          "metadata": {
            "needs_background": "light"
          }
        }
      ]
    },
    {
      "cell_type": "markdown",
      "source": [
        "overall data for 2014-15 data"
      ],
      "metadata": {
        "id": "TX5Kz-Ej_vAT"
      }
    },
    {
      "cell_type": "code",
      "source": [
        "def printout(data, index):\n",
        "  data_new = data.iloc[:, index]\n",
        "  data_now = pd.get_dummies(data_new.dropna())\n",
        "  for i in np.arange(len(data_now.columns)):\n",
        "    thing = data_now.columns.values[i]\n",
        "    num = data_now.iloc[:, i].sum() / len(data_now)\n",
        "    print(thing + \": \" + str(num))\n",
        "\n",
        "# print(list(library.values())[2])\n",
        "# printout(d2014, 2)\n",
        "\n",
        "def overall_summary(data, year):\n",
        "  if year == 2014:\n",
        "    for i in np.arange(len(data.columns) - 1):\n",
        "      print(\"question\" + \": \" + list(library2014.values())[i])\n",
        "      printout(data, i + 1)\n",
        "      print(' ')\n",
        "  if year == 2008:\n",
        "    for i in np.arange(len(data.columns)):\n",
        "      print(\"question\" + \": \" + data.columns[i])\n",
        "      printout(data, i + 1)\n",
        "      print(' ')\n",
        "\n",
        "\n",
        "overall_summary(d2014, 2014)"
      ],
      "metadata": {
        "colab": {
          "base_uri": "https://localhost:8080/"
        },
        "id": "teyN9Ch319Sd",
        "outputId": "42c57d3e-6b1a-41ba-83b1-df358406d22b"
      },
      "execution_count": null,
      "outputs": [
        {
          "output_type": "stream",
          "name": "stdout",
          "text": [
            "question: year begin teach\n",
            "I've been teaching 3-5 years: 0.05084745762711865\n",
            "I've been teaching for 6 years or more: 0.864406779661017\n",
            "This is my first or second year: 0.0847457627118644\n",
            " \n",
            "question: increase amount of science teach?\n",
            "No impact: 0.2807017543859649\n",
            "Yes!: 0.7192982456140351\n",
            " \n",
            "question: how effective science activities engage kids\n",
            "No impact: 0.22807017543859648\n",
            "Yes!: 0.7719298245614035\n",
            " \n",
            "question: add science lesson lesson/field trip/other for kids\n",
            "No impact: 0.15789473684210525\n",
            "Yes!: 0.8421052631578947\n",
            " \n",
            "question: incorporate science with art/math\n",
            "No impact: 0.4107142857142857\n",
            "Yes!: 0.5892857142857143\n",
            " \n",
            "question: become more informed about science resources\n",
            "No impact: 0.07017543859649122\n",
            "Yes!: 0.9298245614035088\n",
            " \n",
            "question: feel more confident professionally\n",
            "No impact: 0.23404255319148937\n",
            "Yes!: 0.7659574468085106\n",
            " \n",
            "question: more enthusiastic about science and science teaching\n",
            "No impact: 0.0625\n",
            "Yes!: 0.9375\n",
            " \n",
            "question: know where to find more information about science lession and content\n",
            "No impact: 0.0625\n",
            "Yes!: 0.9375\n",
            " \n",
            "question: know where to ask for resources\n",
            "No impact: 0.16666666666666666\n",
            "Yes!: 0.8333333333333334\n",
            " \n",
            "question: attend a local science professional development to develop my skills and knowledge\n",
            "No impact: 0.37777777777777777\n",
            "Yes!: 0.6222222222222222\n",
            " \n",
            "question: BASIS science volunteer program?\n",
            "No: 0.46551724137931033\n",
            "Yes: 0.5344827586206896\n",
            " \n",
            "question: science teaching hours per month?\n",
            "8 hours or more: 0.3684210526315789\n",
            "About 2 or less: 0.12280701754385964\n",
            "About 3-4 hours (or, once per week for at least 45 minutes): 0.3157894736842105\n",
            "About 6 hours-7.5 hours (or, twice per week for at least 45 minutes): 0.19298245614035087\n",
            " \n",
            "question: teaching too much/ too little\n",
            "the right amount: 0.5087719298245614\n",
            "too little: 0.49122807017543857\n",
            " \n",
            "question: principle supports science teaching?\n",
            "Neutral: 0.22807017543859648\n",
            "No, actively (directs staff to spend more time on other subjects than science): 0.017543859649122806\n",
            "No, tacitly (focus is mostly on math and/or language arts): 0.10526315789473684\n",
            "Yes, actively (provides planning time, encourages science experiences and classroom time for science): 0.3157894736842105\n",
            "Yes, tacitly (not a major focus): 0.3333333333333333\n",
            " \n",
            "question: students respond positively to science experiences?\n",
            "Agree: 1.0\n",
            " \n"
          ]
        }
      ]
    },
    {
      "cell_type": "markdown",
      "source": [
        "overall data_analysis 2008"
      ],
      "metadata": {
        "id": "eEqDoW8BC70p"
      }
    },
    {
      "cell_type": "code",
      "source": [
        "d2008 = data_2008.drop(0)\n",
        "# overall_summary(d2008, 2008)\n",
        "for i in np.arange(len(d2008.columns)):\n",
        "      print(\"question\" + \": \" + d2008.columns[i])\n",
        "      printout(d2008, i)\n",
        "      print(' ')"
      ],
      "metadata": {
        "colab": {
          "base_uri": "https://localhost:8080/"
        },
        "id": "-FvoUisw8iR9",
        "outputId": "7265987b-c627-45ea-ef08-5d79ca754bd8"
      },
      "execution_count": null,
      "outputs": [
        {
          "output_type": "stream",
          "name": "stdout",
          "text": [
            "question: District\n",
            "Berkeley: 0.3958333333333333\n",
            "Castro Valley: 0.020833333333333332\n",
            "Informal Science Org: 0.020833333333333332\n",
            "Oakland: 0.375\n",
            "Piedmont: 0.020833333333333332\n",
            "Pleasanton: 0.020833333333333332\n",
            "Private: 0.0625\n",
            "San Leandro: 0.0625\n",
            "West Contra Costa: 0.020833333333333332\n",
            " \n",
            "question: My students respond positively to science experiences.\n",
            "Somewhat: 0.044444444444444446\n",
            "Yes: 0.9555555555555556\n",
            " \n",
            "question: I have enough time for the science I want to teach.\n",
            "No: 0.3409090909090909\n",
            "Somewhat: 0.4090909090909091\n",
            "Yes: 0.25\n",
            " \n",
            "question: I have support from my administration to teach hands-on science.\n",
            "Don't know: 0.022727272727272728\n",
            "No: 0.09090909090909091\n",
            "Somewhat: 0.2727272727272727\n",
            "Yes: 0.6136363636363636\n",
            " \n",
            "question: The availability of CRS support and resources helps me teach science.\n",
            "No: 0.022222222222222223\n",
            "Somewhat: 0.08888888888888889\n",
            "Yes: 0.8888888888888888\n",
            " \n"
          ]
        }
      ]
    },
    {
      "cell_type": "code",
      "source": [
        "def see_visualization(data, index):\n",
        "  data_now = pd.get_dummies(data.iloc[:, index].dropna())\n",
        "  if index == 15:\n",
        "    data_now = data_now.rename(columns={'No, actively (directs staff to spend more time on other subjects than science)': 'No, actively',\n",
        "                      'No, tacitly (focus is mostly on math and/or language arts)': 'No, tacitly',\n",
        "                      'Yes, actively (provides planning time, encourages science experiences and classroom time for science)' : 'Yes, actively',\n",
        "                      'Yes, tacitly (not a major focus)': 'Yes, tacitly'} )\n",
        "  sns.barplot(data = data_now).set(title=data.columns[index])\n",
        "see_visualization(d2008, 1)"
      ],
      "metadata": {
        "colab": {
          "base_uri": "https://localhost:8080/",
          "height": 281
        },
        "id": "nEyNlWuQC-gy",
        "outputId": "a7cadfde-0558-4c7d-b874-bf573af2b7c7"
      },
      "execution_count": null,
      "outputs": [
        {
          "output_type": "display_data",
          "data": {
            "text/plain": [
              "<Figure size 432x288 with 1 Axes>"
            ],
            "image/png": "[encoded data removed]"
          },
          "metadata": {
            "needs_background": "light"
          }
        }
      ]
    },
    {
      "cell_type": "code",
      "source": [
        "d2014.head()"
      ],
      "metadata": {
        "colab": {
          "base_uri": "https://localhost:8080/",
          "height": 843
        },
        "id": "GmZH8z8NxlaC",
        "outputId": "5b846624-ad81-4f59-c2b6-5716ec02681c"
      },
      "execution_count": null,
      "outputs": [
        {
          "output_type": "execute_result",
          "data": {
            "text/plain": [
              "            DISTRICT                        year begin teach  \\\n",
              "2            Oakland  I've been teaching for 6 years or more   \n",
              "3            Oakland            I've been teaching 3-5 years   \n",
              "4  West Contra Costa  I've been teaching for 6 years or more   \n",
              "5            Oakland  I've been teaching for 6 years or more   \n",
              "6            Oakland  I've been teaching for 6 years or more   \n",
              "\n",
              "  increase amount of science teach?  \\\n",
              "2                              Yes!   \n",
              "3                              Yes!   \n",
              "4                              Yes!   \n",
              "5                              Yes!   \n",
              "6                              Yes!   \n",
              "\n",
              "  how effective science activities engage kids  \\\n",
              "2                                         Yes!   \n",
              "3                                         Yes!   \n",
              "4                                         Yes!   \n",
              "5                                         Yes!   \n",
              "6                                         Yes!   \n",
              "\n",
              "  add science lesson lesson/field trip/other for kids  \\\n",
              "2                                               Yes!    \n",
              "3                                               Yes!    \n",
              "4                                               Yes!    \n",
              "5                                               Yes!    \n",
              "6                                               Yes!    \n",
              "\n",
              "  incorporate science with art/math  \\\n",
              "2                              Yes!   \n",
              "3                              Yes!   \n",
              "4                              Yes!   \n",
              "5                         No impact   \n",
              "6                              Yes!   \n",
              "\n",
              "  become more informed about science resources  \\\n",
              "2                                         Yes!   \n",
              "3                                         Yes!   \n",
              "4                                         Yes!   \n",
              "5                                         Yes!   \n",
              "6                                         Yes!   \n",
              "\n",
              "  feel more confident professionally  \\\n",
              "2                               Yes!   \n",
              "3                               Yes!   \n",
              "4                               Yes!   \n",
              "5                               Yes!   \n",
              "6                               Yes!   \n",
              "\n",
              "  more enthusiastic about science and science teaching  \\\n",
              "2                                               Yes!     \n",
              "3                                               Yes!     \n",
              "4                                               Yes!     \n",
              "5                                               Yes!     \n",
              "6                                               Yes!     \n",
              "\n",
              "  know where to find more information about science lession and content  \\\n",
              "2                                               Yes!                      \n",
              "3                                               Yes!                      \n",
              "4                                               Yes!                      \n",
              "5                                               Yes!                      \n",
              "6                                          No impact                      \n",
              "\n",
              "  know where to ask for resources  \\\n",
              "2                            Yes!   \n",
              "3                            Yes!   \n",
              "4                            Yes!   \n",
              "5                            Yes!   \n",
              "6                       No impact   \n",
              "\n",
              "  attend a local science professional development to develop my skills and knowledge  \\\n",
              "2                                               Yes!                                   \n",
              "3                                               Yes!                                   \n",
              "4                                               Yes!                                   \n",
              "5                                                NaN                                   \n",
              "6                                          No impact                                   \n",
              "\n",
              "  BASIS science volunteer program? science teaching hours per month?  \\\n",
              "2                              Yes                   8 hours or more   \n",
              "3                               No                   8 hours or more   \n",
              "4                               No                   8 hours or more   \n",
              "5                               No                   8 hours or more   \n",
              "6                              Yes                   8 hours or more   \n",
              "\n",
              "  teaching too much/ too little  \\\n",
              "2                    too little   \n",
              "3                    too little   \n",
              "4                    too little   \n",
              "5                    too little   \n",
              "6                    too little   \n",
              "\n",
              "                principle supports science teaching?  \\\n",
              "2                                            Neutral   \n",
              "3  No, actively (directs staff to spend more time...   \n",
              "4  Yes, actively (provides planning time, encoura...   \n",
              "5  Yes, actively (provides planning time, encoura...   \n",
              "6                   Yes, tacitly (not a major focus)   \n",
              "\n",
              "  students respond positively to science experiences?  \n",
              "2                                              Agree   \n",
              "3                                              Agree   \n",
              "4                                              Agree   \n",
              "5                                              Agree   \n",
              "6                                              Agree   "
            ],
            "text/html": [
              "\n",
              "  <div id=\"df-188bc15a-4a91-4d86-9157-6b63db95d648\">\n",
              "    <div class=\"colab-df-container\">\n",
              "      <div>\n",
              "<style scoped>\n",
              "    .dataframe tbody tr th:only-of-type {\n",
              "        vertical-align: middle;\n",
              "    }\n",
              "\n",
              "    .dataframe tbody tr th {\n",
              "        vertical-align: top;\n",
              "    }\n",
              "\n",
              "    .dataframe thead th {\n",
              "        text-align: right;\n",
              "    }\n",
              "</style>\n",
              "<table border=\"1\" class=\"dataframe\">\n",
              "  <thead>\n",
              "    <tr style=\"text-align: right;\">\n",
              "      <th></th>\n",
              "      <th>DISTRICT</th>\n",
              "      <th>year begin teach</th>\n",
              "      <th>increase amount of science teach?</th>\n",
              "      <th>how effective science activities engage kids</th>\n",
              "      <th>add science lesson lesson/field trip/other for kids</th>\n",
              "      <th>incorporate science with art/math</th>\n",
              "      <th>become more informed about science resources</th>\n",
              "      <th>feel more confident professionally</th>\n",
              "      <th>more enthusiastic about science and science teaching</th>\n",
              "      <th>know where to find more information about science lession and content</th>\n",
              "      <th>know where to ask for resources</th>\n",
              "      <th>attend a local science professional development to develop my skills and knowledge</th>\n",
              "      <th>BASIS science volunteer program?</th>\n",
              "      <th>science teaching hours per month?</th>\n",
              "      <th>teaching too much/ too little</th>\n",
              "      <th>principle supports science teaching?</th>\n",
              "      <th>students respond positively to science experiences?</th>\n",
              "    </tr>\n",
              "  </thead>\n",
              "  <tbody>\n",
              "    <tr>\n",
              "      <th>2</th>\n",
              "      <td>Oakland</td>\n",
              "      <td>I've been teaching for 6 years or more</td>\n",
              "      <td>Yes!</td>\n",
              "      <td>Yes!</td>\n",
              "      <td>Yes!</td>\n",
              "      <td>Yes!</td>\n",
              "      <td>Yes!</td>\n",
              "      <td>Yes!</td>\n",
              "      <td>Yes!</td>\n",
              "      <td>Yes!</td>\n",
              "      <td>Yes!</td>\n",
              "      <td>Yes!</td>\n",
              "      <td>Yes</td>\n",
              "      <td>8 hours or more</td>\n",
              "      <td>too little</td>\n",
              "      <td>Neutral</td>\n",
              "      <td>Agree</td>\n",
              "    </tr>\n",
              "    <tr>\n",
              "      <th>3</th>\n",
              "      <td>Oakland</td>\n",
              "      <td>I've been teaching 3-5 years</td>\n",
              "      <td>Yes!</td>\n",
              "      <td>Yes!</td>\n",
              "      <td>Yes!</td>\n",
              "      <td>Yes!</td>\n",
              "      <td>Yes!</td>\n",
              "      <td>Yes!</td>\n",
              "      <td>Yes!</td>\n",
              "      <td>Yes!</td>\n",
              "      <td>Yes!</td>\n",
              "      <td>Yes!</td>\n",
              "      <td>No</td>\n",
              "      <td>8 hours or more</td>\n",
              "      <td>too little</td>\n",
              "      <td>No, actively (directs staff to spend more time...</td>\n",
              "      <td>Agree</td>\n",
              "    </tr>\n",
              "    <tr>\n",
              "      <th>4</th>\n",
              "      <td>West Contra Costa</td>\n",
              "      <td>I've been teaching for 6 years or more</td>\n",
              "      <td>Yes!</td>\n",
              "      <td>Yes!</td>\n",
              "      <td>Yes!</td>\n",
              "      <td>Yes!</td>\n",
              "      <td>Yes!</td>\n",
              "      <td>Yes!</td>\n",
              "      <td>Yes!</td>\n",
              "      <td>Yes!</td>\n",
              "      <td>Yes!</td>\n",
              "      <td>Yes!</td>\n",
              "      <td>No</td>\n",
              "      <td>8 hours or more</td>\n",
              "      <td>too little</td>\n",
              "      <td>Yes, actively (provides planning time, encoura...</td>\n",
              "      <td>Agree</td>\n",
              "    </tr>\n",
              "    <tr>\n",
              "      <th>5</th>\n",
              "      <td>Oakland</td>\n",
              "      <td>I've been teaching for 6 years or more</td>\n",
              "      <td>Yes!</td>\n",
              "      <td>Yes!</td>\n",
              "      <td>Yes!</td>\n",
              "      <td>No impact</td>\n",
              "      <td>Yes!</td>\n",
              "      <td>Yes!</td>\n",
              "      <td>Yes!</td>\n",
              "      <td>Yes!</td>\n",
              "      <td>Yes!</td>\n",
              "      <td>NaN</td>\n",
              "      <td>No</td>\n",
              "      <td>8 hours or more</td>\n",
              "      <td>too little</td>\n",
              "      <td>Yes, actively (provides planning time, encoura...</td>\n",
              "      <td>Agree</td>\n",
              "    </tr>\n",
              "    <tr>\n",
              "      <th>6</th>\n",
              "      <td>Oakland</td>\n",
              "      <td>I've been teaching for 6 years or more</td>\n",
              "      <td>Yes!</td>\n",
              "      <td>Yes!</td>\n",
              "      <td>Yes!</td>\n",
              "      <td>Yes!</td>\n",
              "      <td>Yes!</td>\n",
              "      <td>Yes!</td>\n",
              "      <td>Yes!</td>\n",
              "      <td>No impact</td>\n",
              "      <td>No impact</td>\n",
              "      <td>No impact</td>\n",
              "      <td>Yes</td>\n",
              "      <td>8 hours or more</td>\n",
              "      <td>too little</td>\n",
              "      <td>Yes, tacitly (not a major focus)</td>\n",
              "      <td>Agree</td>\n",
              "    </tr>\n",
              "  </tbody>\n",
              "</table>\n",
              "</div>\n",
              "      <button class=\"colab-df-convert\" onclick=\"convertToInteractive('df-188bc15a-4a91-4d86-9157-6b63db95d648')\"\n",
              "              title=\"Convert this dataframe to an interactive table.\"\n",
              "              style=\"display:none;\">\n",
              "        \n",
              "  <svg xmlns=\"http://www.w3.org/2000/svg\" height=\"24px\"viewBox=\"0 0 24 24\"\n",
              "       width=\"24px\">\n",
              "    <path d=\"M0 0h24v24H0V0z\" fill=\"none\"/>\n",
              "    <path d=\"M18.56 5.44l.94 2.06.94-2.06 2.06-.94-2.06-.94-.94-2.06-.94 2.06-2.06.94zm-11 1L8.5 8.5l.94-2.06 2.06-.94-2.06-.94L8.5 2.5l-.94 2.06-2.06.94zm10 10l.94 2.06.94-2.06 2.06-.94-2.06-.94-.94-2.06-.94 2.06-2.06.94z\"/><path d=\"M17.41 7.96l-1.37-1.37c-.4-.4-.92-.59-1.43-.59-.52 0-1.04.2-1.43.59L10.3 9.45l-7.72 7.72c-.78.78-.78 2.05 0 2.83L4 21.41c.39.39.9.59 1.41.59.51 0 1.02-.2 1.41-.59l7.78-7.78 2.81-2.81c.8-.78.8-2.07 0-2.86zM5.41 20L4 18.59l7.72-7.72 1.47 1.35L5.41 20z\"/>\n",
              "  </svg>\n",
              "      </button>\n",
              "      \n",
              "  <style>\n",
              "    .colab-df-container {\n",
              "      display:flex;\n",
              "      flex-wrap:wrap;\n",
              "      gap: 12px;\n",
              "    }\n",
              "\n",
              "    .colab-df-convert {\n",
              "      background-color: #E8F0FE;\n",
              "      border: none;\n",
              "      border-radius: 50%;\n",
              "      cursor: pointer;\n",
              "      display: none;\n",
              "      fill: #1967D2;\n",
              "      height: 32px;\n",
              "      padding: 0 0 0 0;\n",
              "      width: 32px;\n",
              "    }\n",
              "\n",
              "    .colab-df-convert:hover {\n",
              "      background-color: #E2EBFA;\n",
              "      box-shadow: 0px 1px 2px rgba(60, 64, 67, 0.3), 0px 1px 3px 1px rgba(60, 64, 67, 0.15);\n",
              "      fill: #174EA6;\n",
              "    }\n",
              "\n",
              "    [theme=dark] .colab-df-convert {\n",
              "      background-color: #3B4455;\n",
              "      fill: #D2E3FC;\n",
              "    }\n",
              "\n",
              "    [theme=dark] .colab-df-convert:hover {\n",
              "      background-color: #434B5C;\n",
              "      box-shadow: 0px 1px 3px 1px rgba(0, 0, 0, 0.15);\n",
              "      filter: drop-shadow(0px 1px 2px rgba(0, 0, 0, 0.3));\n",
              "      fill: #FFFFFF;\n",
              "    }\n",
              "  </style>\n",
              "\n",
              "      <script>\n",
              "        const buttonEl =\n",
              "          document.querySelector('#df-188bc15a-4a91-4d86-9157-6b63db95d648 button.colab-df-convert');\n",
              "        buttonEl.style.display =\n",
              "          google.colab.kernel.accessAllowed ? 'block' : 'none';\n",
              "\n",
              "        async function convertToInteractive(key) {\n",
              "          const element = document.querySelector('#df-188bc15a-4a91-4d86-9157-6b63db95d648');\n",
              "          const dataTable =\n",
              "            await google.colab.kernel.invokeFunction('convertToInteractive',\n",
              "                                                     [key], {});\n",
              "          if (!dataTable) return;\n",
              "\n",
              "          const docLinkHtml = 'Like what you see? Visit the ' +\n",
              "            '<a target=\"_blank\" href=https://colab.research.google.com/notebooks/data_table.ipynb>data table notebook</a>'\n",
              "            + ' to learn more about interactive tables.';\n",
              "          element.innerHTML = '';\n",
              "          dataTable['output_type'] = 'display_data';\n",
              "          await google.colab.output.renderOutput(dataTable, element);\n",
              "          const docLink = document.createElement('div');\n",
              "          docLink.innerHTML = docLinkHtml;\n",
              "          element.appendChild(docLink);\n",
              "        }\n",
              "      </script>\n",
              "    </div>\n",
              "  </div>\n",
              "  "
            ]
          },
          "metadata": {},
          "execution_count": 16
        }
      ]
    },
    {
      "cell_type": "code",
      "source": [
        "d2008.head()"
      ],
      "metadata": {
        "colab": {
          "base_uri": "https://localhost:8080/",
          "height": 268
        },
        "id": "lKj0Em6mxvRa",
        "outputId": "e74fe4cc-02b3-48ed-9b5a-0f639c73f05c"
      },
      "execution_count": null,
      "outputs": [
        {
          "output_type": "execute_result",
          "data": {
            "text/plain": [
              "   District My students respond positively to science experiences.  \\\n",
              "1  Berkeley                                                Yes       \n",
              "2  Berkeley                                                Yes       \n",
              "3  Berkeley                                           Somewhat       \n",
              "4  Berkeley                                                Yes       \n",
              "5  Berkeley                                                Yes       \n",
              "\n",
              "  I have enough time for the science I want to teach.  \\\n",
              "1                                           Somewhat    \n",
              "2                                                 No    \n",
              "3                                                 No    \n",
              "4                                           Somewhat    \n",
              "5                                           Somewhat    \n",
              "\n",
              "  I have support from my administration to teach hands-on science.  \\\n",
              "1                                                Yes                 \n",
              "2                                                 No                 \n",
              "3                                                Yes                 \n",
              "4                                                Yes                 \n",
              "5                                           Somewhat                 \n",
              "\n",
              "  The availability of CRS support and resources helps me teach science.  \n",
              "1                                           Somewhat                     \n",
              "2                                                Yes                     \n",
              "3                                                Yes                     \n",
              "4                                                Yes                     \n",
              "5                                                Yes                     "
            ],
            "text/html": [
              "\n",
              "  <div id=\"df-1b6e6300-d617-4585-9abd-5f0d7033484b\">\n",
              "    <div class=\"colab-df-container\">\n",
              "      <div>\n",
              "<style scoped>\n",
              "    .dataframe tbody tr th:only-of-type {\n",
              "        vertical-align: middle;\n",
              "    }\n",
              "\n",
              "    .dataframe tbody tr th {\n",
              "        vertical-align: top;\n",
              "    }\n",
              "\n",
              "    .dataframe thead th {\n",
              "        text-align: right;\n",
              "    }\n",
              "</style>\n",
              "<table border=\"1\" class=\"dataframe\">\n",
              "  <thead>\n",
              "    <tr style=\"text-align: right;\">\n",
              "      <th></th>\n",
              "      <th>District</th>\n",
              "      <th>My students respond positively to science experiences.</th>\n",
              "      <th>I have enough time for the science I want to teach.</th>\n",
              "      <th>I have support from my administration to teach hands-on science.</th>\n",
              "      <th>The availability of CRS support and resources helps me teach science.</th>\n",
              "    </tr>\n",
              "  </thead>\n",
              "  <tbody>\n",
              "    <tr>\n",
              "      <th>1</th>\n",
              "      <td>Berkeley</td>\n",
              "      <td>Yes</td>\n",
              "      <td>Somewhat</td>\n",
              "      <td>Yes</td>\n",
              "      <td>Somewhat</td>\n",
              "    </tr>\n",
              "    <tr>\n",
              "      <th>2</th>\n",
              "      <td>Berkeley</td>\n",
              "      <td>Yes</td>\n",
              "      <td>No</td>\n",
              "      <td>No</td>\n",
              "      <td>Yes</td>\n",
              "    </tr>\n",
              "    <tr>\n",
              "      <th>3</th>\n",
              "      <td>Berkeley</td>\n",
              "      <td>Somewhat</td>\n",
              "      <td>No</td>\n",
              "      <td>Yes</td>\n",
              "      <td>Yes</td>\n",
              "    </tr>\n",
              "    <tr>\n",
              "      <th>4</th>\n",
              "      <td>Berkeley</td>\n",
              "      <td>Yes</td>\n",
              "      <td>Somewhat</td>\n",
              "      <td>Yes</td>\n",
              "      <td>Yes</td>\n",
              "    </tr>\n",
              "    <tr>\n",
              "      <th>5</th>\n",
              "      <td>Berkeley</td>\n",
              "      <td>Yes</td>\n",
              "      <td>Somewhat</td>\n",
              "      <td>Somewhat</td>\n",
              "      <td>Yes</td>\n",
              "    </tr>\n",
              "  </tbody>\n",
              "</table>\n",
              "</div>\n",
              "      <button class=\"colab-df-convert\" onclick=\"convertToInteractive('df-1b6e6300-d617-4585-9abd-5f0d7033484b')\"\n",
              "              title=\"Convert this dataframe to an interactive table.\"\n",
              "              style=\"display:none;\">\n",
              "        \n",
              "  <svg xmlns=\"http://www.w3.org/2000/svg\" height=\"24px\"viewBox=\"0 0 24 24\"\n",
              "       width=\"24px\">\n",
              "    <path d=\"M0 0h24v24H0V0z\" fill=\"none\"/>\n",
              "    <path d=\"M18.56 5.44l.94 2.06.94-2.06 2.06-.94-2.06-.94-.94-2.06-.94 2.06-2.06.94zm-11 1L8.5 8.5l.94-2.06 2.06-.94-2.06-.94L8.5 2.5l-.94 2.06-2.06.94zm10 10l.94 2.06.94-2.06 2.06-.94-2.06-.94-.94-2.06-.94 2.06-2.06.94z\"/><path d=\"M17.41 7.96l-1.37-1.37c-.4-.4-.92-.59-1.43-.59-.52 0-1.04.2-1.43.59L10.3 9.45l-7.72 7.72c-.78.78-.78 2.05 0 2.83L4 21.41c.39.39.9.59 1.41.59.51 0 1.02-.2 1.41-.59l7.78-7.78 2.81-2.81c.8-.78.8-2.07 0-2.86zM5.41 20L4 18.59l7.72-7.72 1.47 1.35L5.41 20z\"/>\n",
              "  </svg>\n",
              "      </button>\n",
              "      \n",
              "  <style>\n",
              "    .colab-df-container {\n",
              "      display:flex;\n",
              "      flex-wrap:wrap;\n",
              "      gap: 12px;\n",
              "    }\n",
              "\n",
              "    .colab-df-convert {\n",
              "      background-color: #E8F0FE;\n",
              "      border: none;\n",
              "      border-radius: 50%;\n",
              "      cursor: pointer;\n",
              "      display: none;\n",
              "      fill: #1967D2;\n",
              "      height: 32px;\n",
              "      padding: 0 0 0 0;\n",
              "      width: 32px;\n",
              "    }\n",
              "\n",
              "    .colab-df-convert:hover {\n",
              "      background-color: #E2EBFA;\n",
              "      box-shadow: 0px 1px 2px rgba(60, 64, 67, 0.3), 0px 1px 3px 1px rgba(60, 64, 67, 0.15);\n",
              "      fill: #174EA6;\n",
              "    }\n",
              "\n",
              "    [theme=dark] .colab-df-convert {\n",
              "      background-color: #3B4455;\n",
              "      fill: #D2E3FC;\n",
              "    }\n",
              "\n",
              "    [theme=dark] .colab-df-convert:hover {\n",
              "      background-color: #434B5C;\n",
              "      box-shadow: 0px 1px 3px 1px rgba(0, 0, 0, 0.15);\n",
              "      filter: drop-shadow(0px 1px 2px rgba(0, 0, 0, 0.3));\n",
              "      fill: #FFFFFF;\n",
              "    }\n",
              "  </style>\n",
              "\n",
              "      <script>\n",
              "        const buttonEl =\n",
              "          document.querySelector('#df-1b6e6300-d617-4585-9abd-5f0d7033484b button.colab-df-convert');\n",
              "        buttonEl.style.display =\n",
              "          google.colab.kernel.accessAllowed ? 'block' : 'none';\n",
              "\n",
              "        async function convertToInteractive(key) {\n",
              "          const element = document.querySelector('#df-1b6e6300-d617-4585-9abd-5f0d7033484b');\n",
              "          const dataTable =\n",
              "            await google.colab.kernel.invokeFunction('convertToInteractive',\n",
              "                                                     [key], {});\n",
              "          if (!dataTable) return;\n",
              "\n",
              "          const docLinkHtml = 'Like what you see? Visit the ' +\n",
              "            '<a target=\"_blank\" href=https://colab.research.google.com/notebooks/data_table.ipynb>data table notebook</a>'\n",
              "            + ' to learn more about interactive tables.';\n",
              "          element.innerHTML = '';\n",
              "          dataTable['output_type'] = 'display_data';\n",
              "          await google.colab.output.renderOutput(dataTable, element);\n",
              "          const docLink = document.createElement('div');\n",
              "          docLink.innerHTML = docLinkHtml;\n",
              "          element.appendChild(docLink);\n",
              "        }\n",
              "      </script>\n",
              "    </div>\n",
              "  </div>\n",
              "  "
            ]
          },
          "metadata": {},
          "execution_count": 17
        }
      ]
    },
    {
      "cell_type": "markdown",
      "source": [
        "respond positively 2008 vs 2014:"
      ],
      "metadata": {
        "id": "O2LJVEGByLsH"
      }
    },
    {
      "cell_type": "code",
      "source": [
        "see_visualization(d2008, 1)"
      ],
      "metadata": {
        "colab": {
          "base_uri": "https://localhost:8080/",
          "height": 281
        },
        "id": "KwChsrdsxycE",
        "outputId": "ef551f78-f4c3-4948-be90-b405a3c25b12"
      },
      "execution_count": null,
      "outputs": [
        {
          "output_type": "display_data",
          "data": {
            "text/plain": [
              "<Figure size 432x288 with 1 Axes>"
            ],
            "image/png": "[encoded data removed]"
          },
          "metadata": {
            "needs_background": "light"
          }
        }
      ]
    },
    {
      "cell_type": "code",
      "source": [
        "see_visualization(d2014, 16)"
      ],
      "metadata": {
        "colab": {
          "base_uri": "https://localhost:8080/",
          "height": 281
        },
        "id": "1pXzuUQDx-Yp",
        "outputId": "4a68300c-81d0-4709-e650-b1692641617a"
      },
      "execution_count": null,
      "outputs": [
        {
          "output_type": "display_data",
          "data": {
            "text/plain": [
              "<Figure size 432x288 with 1 Axes>"
            ],
            "image/png": "[encoded data removed]"
          },
          "metadata": {
            "needs_background": "light"
          }
        }
      ]
    },
    {
      "cell_type": "code",
      "source": [
        "x1 = (d2014.iloc[:, 16].dropna().value_counts()[0]) / (d2014.iloc[:, 16].dropna().size)\n",
        "x2 = d2008.iloc[:, 1].dropna().value_counts()[0] / (d2008.iloc[:, 1].dropna().size)\n",
        "data1 = [x2, x1]\n",
        "years = []\n",
        "d1 = {'years': years, 'data': data1}\n",
        "pda = pd.DataFrame(d1)\n",
        "sns.lineplot(x='years', y='data', data=pda)"
      ],
      "metadata": {
        "colab": {
          "base_uri": "https://localhost:8080/",
          "height": 375
        },
        "id": "JjRBAvbWT3tF",
        "outputId": "dfd87c86-afc1-496b-f67e-3285f186ff7f"
      },
      "execution_count": null,
      "outputs": [
        {
          "output_type": "error",
          "ename": "ValueError",
          "evalue": "ignored",
          "traceback": [
            "\u001b[0;31m---------------------------------------------------------------------------\u001b[0m",
            "\u001b[0;31mValueError\u001b[0m                                Traceback (most recent call last)",
            "\u001b[0;32m<ipython-input-36-c77f80ab8bef>\u001b[0m in \u001b[0;36m<module>\u001b[0;34m\u001b[0m\n\u001b[1;32m      4\u001b[0m \u001b[0myears\u001b[0m \u001b[0;34m=\u001b[0m \u001b[0;34m[\u001b[0m\u001b[0;34m]\u001b[0m\u001b[0;34m\u001b[0m\u001b[0;34m\u001b[0m\u001b[0m\n\u001b[1;32m      5\u001b[0m \u001b[0md1\u001b[0m \u001b[0;34m=\u001b[0m \u001b[0;34m{\u001b[0m\u001b[0;34m'years'\u001b[0m\u001b[0;34m:\u001b[0m \u001b[0myears\u001b[0m\u001b[0;34m,\u001b[0m \u001b[0;34m'data'\u001b[0m\u001b[0;34m:\u001b[0m \u001b[0mdata1\u001b[0m\u001b[0;34m}\u001b[0m\u001b[0;34m\u001b[0m\u001b[0;34m\u001b[0m\u001b[0m\n\u001b[0;32m----> 6\u001b[0;31m \u001b[0mpda\u001b[0m \u001b[0;34m=\u001b[0m \u001b[0mpd\u001b[0m\u001b[0;34m.\u001b[0m\u001b[0mDataFrame\u001b[0m\u001b[0;34m(\u001b[0m\u001b[0md1\u001b[0m\u001b[0;34m)\u001b[0m\u001b[0;34m\u001b[0m\u001b[0;34m\u001b[0m\u001b[0m\n\u001b[0m\u001b[1;32m      7\u001b[0m \u001b[0msns\u001b[0m\u001b[0;34m.\u001b[0m\u001b[0mlineplot\u001b[0m\u001b[0;34m(\u001b[0m\u001b[0mx\u001b[0m\u001b[0;34m=\u001b[0m\u001b[0;34m'years'\u001b[0m\u001b[0;34m,\u001b[0m \u001b[0my\u001b[0m\u001b[0;34m=\u001b[0m\u001b[0;34m'data'\u001b[0m\u001b[0;34m,\u001b[0m \u001b[0mdata\u001b[0m\u001b[0;34m=\u001b[0m\u001b[0mpda\u001b[0m\u001b[0;34m)\u001b[0m\u001b[0;34m\u001b[0m\u001b[0;34m\u001b[0m\u001b[0m\n",
            "\u001b[0;32m/usr/local/lib/python3.8/dist-packages/pandas/core/frame.py\u001b[0m in \u001b[0;36m__init__\u001b[0;34m(self, data, index, columns, dtype, copy)\u001b[0m\n\u001b[1;32m    612\u001b[0m         \u001b[0;32melif\u001b[0m \u001b[0misinstance\u001b[0m\u001b[0;34m(\u001b[0m\u001b[0mdata\u001b[0m\u001b[0;34m,\u001b[0m \u001b[0mdict\u001b[0m\u001b[0;34m)\u001b[0m\u001b[0;34m:\u001b[0m\u001b[0;34m\u001b[0m\u001b[0;34m\u001b[0m\u001b[0m\n\u001b[1;32m    613\u001b[0m             \u001b[0;31m# GH#38939 de facto copy defaults to False only in non-dict cases\u001b[0m\u001b[0;34m\u001b[0m\u001b[0;34m\u001b[0m\u001b[0;34m\u001b[0m\u001b[0m\n\u001b[0;32m--> 614\u001b[0;31m             \u001b[0mmgr\u001b[0m \u001b[0;34m=\u001b[0m \u001b[0mdict_to_mgr\u001b[0m\u001b[0;34m(\u001b[0m\u001b[0mdata\u001b[0m\u001b[0;34m,\u001b[0m \u001b[0mindex\u001b[0m\u001b[0;34m,\u001b[0m \u001b[0mcolumns\u001b[0m\u001b[0;34m,\u001b[0m \u001b[0mdtype\u001b[0m\u001b[0;34m=\u001b[0m\u001b[0mdtype\u001b[0m\u001b[0;34m,\u001b[0m \u001b[0mcopy\u001b[0m\u001b[0;34m=\u001b[0m\u001b[0mcopy\u001b[0m\u001b[0;34m,\u001b[0m \u001b[0mtyp\u001b[0m\u001b[0;34m=\u001b[0m\u001b[0mmanager\u001b[0m\u001b[0;34m)\u001b[0m\u001b[0;34m\u001b[0m\u001b[0;34m\u001b[0m\u001b[0m\n\u001b[0m\u001b[1;32m    615\u001b[0m         \u001b[0;32melif\u001b[0m \u001b[0misinstance\u001b[0m\u001b[0;34m(\u001b[0m\u001b[0mdata\u001b[0m\u001b[0;34m,\u001b[0m \u001b[0mma\u001b[0m\u001b[0;34m.\u001b[0m\u001b[0mMaskedArray\u001b[0m\u001b[0;34m)\u001b[0m\u001b[0;34m:\u001b[0m\u001b[0;34m\u001b[0m\u001b[0;34m\u001b[0m\u001b[0m\n\u001b[1;32m    616\u001b[0m             \u001b[0;32mimport\u001b[0m \u001b[0mnumpy\u001b[0m\u001b[0;34m.\u001b[0m\u001b[0mma\u001b[0m\u001b[0;34m.\u001b[0m\u001b[0mmrecords\u001b[0m \u001b[0;32mas\u001b[0m \u001b[0mmrecords\u001b[0m\u001b[0;34m\u001b[0m\u001b[0;34m\u001b[0m\u001b[0m\n",
            "\u001b[0;32m/usr/local/lib/python3.8/dist-packages/pandas/core/internals/construction.py\u001b[0m in \u001b[0;36mdict_to_mgr\u001b[0;34m(data, index, columns, dtype, typ, copy)\u001b[0m\n\u001b[1;32m    462\u001b[0m         \u001b[0;31m# TODO: can we get rid of the dt64tz special case above?\u001b[0m\u001b[0;34m\u001b[0m\u001b[0;34m\u001b[0m\u001b[0;34m\u001b[0m\u001b[0m\n\u001b[1;32m    463\u001b[0m \u001b[0;34m\u001b[0m\u001b[0m\n\u001b[0;32m--> 464\u001b[0;31m     return arrays_to_mgr(\n\u001b[0m\u001b[1;32m    465\u001b[0m         \u001b[0marrays\u001b[0m\u001b[0;34m,\u001b[0m \u001b[0mdata_names\u001b[0m\u001b[0;34m,\u001b[0m \u001b[0mindex\u001b[0m\u001b[0;34m,\u001b[0m \u001b[0mcolumns\u001b[0m\u001b[0;34m,\u001b[0m \u001b[0mdtype\u001b[0m\u001b[0;34m=\u001b[0m\u001b[0mdtype\u001b[0m\u001b[0;34m,\u001b[0m \u001b[0mtyp\u001b[0m\u001b[0;34m=\u001b[0m\u001b[0mtyp\u001b[0m\u001b[0;34m,\u001b[0m \u001b[0mconsolidate\u001b[0m\u001b[0;34m=\u001b[0m\u001b[0mcopy\u001b[0m\u001b[0;34m\u001b[0m\u001b[0;34m\u001b[0m\u001b[0m\n\u001b[1;32m    466\u001b[0m     )\n",
            "\u001b[0;32m/usr/local/lib/python3.8/dist-packages/pandas/core/internals/construction.py\u001b[0m in \u001b[0;36marrays_to_mgr\u001b[0;34m(arrays, arr_names, index, columns, dtype, verify_integrity, typ, consolidate)\u001b[0m\n\u001b[1;32m    117\u001b[0m         \u001b[0;31m# figure out the index, if necessary\u001b[0m\u001b[0;34m\u001b[0m\u001b[0;34m\u001b[0m\u001b[0;34m\u001b[0m\u001b[0m\n\u001b[1;32m    118\u001b[0m         \u001b[0;32mif\u001b[0m \u001b[0mindex\u001b[0m \u001b[0;32mis\u001b[0m \u001b[0;32mNone\u001b[0m\u001b[0;34m:\u001b[0m\u001b[0;34m\u001b[0m\u001b[0;34m\u001b[0m\u001b[0m\n\u001b[0;32m--> 119\u001b[0;31m             \u001b[0mindex\u001b[0m \u001b[0;34m=\u001b[0m \u001b[0m_extract_index\u001b[0m\u001b[0;34m(\u001b[0m\u001b[0marrays\u001b[0m\u001b[0;34m)\u001b[0m\u001b[0;34m\u001b[0m\u001b[0;34m\u001b[0m\u001b[0m\n\u001b[0m\u001b[1;32m    120\u001b[0m         \u001b[0;32melse\u001b[0m\u001b[0;34m:\u001b[0m\u001b[0;34m\u001b[0m\u001b[0;34m\u001b[0m\u001b[0m\n\u001b[1;32m    121\u001b[0m             \u001b[0mindex\u001b[0m \u001b[0;34m=\u001b[0m \u001b[0mensure_index\u001b[0m\u001b[0;34m(\u001b[0m\u001b[0mindex\u001b[0m\u001b[0;34m)\u001b[0m\u001b[0;34m\u001b[0m\u001b[0;34m\u001b[0m\u001b[0m\n",
            "\u001b[0;32m/usr/local/lib/python3.8/dist-packages/pandas/core/internals/construction.py\u001b[0m in \u001b[0;36m_extract_index\u001b[0;34m(data)\u001b[0m\n\u001b[1;32m    633\u001b[0m             \u001b[0mlengths\u001b[0m \u001b[0;34m=\u001b[0m \u001b[0mlist\u001b[0m\u001b[0;34m(\u001b[0m\u001b[0mset\u001b[0m\u001b[0;34m(\u001b[0m\u001b[0mraw_lengths\u001b[0m\u001b[0;34m)\u001b[0m\u001b[0;34m)\u001b[0m\u001b[0;34m\u001b[0m\u001b[0;34m\u001b[0m\u001b[0m\n\u001b[1;32m    634\u001b[0m             \u001b[0;32mif\u001b[0m \u001b[0mlen\u001b[0m\u001b[0;34m(\u001b[0m\u001b[0mlengths\u001b[0m\u001b[0;34m)\u001b[0m \u001b[0;34m>\u001b[0m \u001b[0;36m1\u001b[0m\u001b[0;34m:\u001b[0m\u001b[0;34m\u001b[0m\u001b[0;34m\u001b[0m\u001b[0m\n\u001b[0;32m--> 635\u001b[0;31m                 \u001b[0;32mraise\u001b[0m \u001b[0mValueError\u001b[0m\u001b[0;34m(\u001b[0m\u001b[0;34m\"All arrays must be of the same length\"\u001b[0m\u001b[0;34m)\u001b[0m\u001b[0;34m\u001b[0m\u001b[0;34m\u001b[0m\u001b[0m\n\u001b[0m\u001b[1;32m    636\u001b[0m \u001b[0;34m\u001b[0m\u001b[0m\n\u001b[1;32m    637\u001b[0m             \u001b[0;32mif\u001b[0m \u001b[0mhave_dicts\u001b[0m\u001b[0;34m:\u001b[0m\u001b[0;34m\u001b[0m\u001b[0;34m\u001b[0m\u001b[0m\n",
            "\u001b[0;31mValueError\u001b[0m: All arrays must be of the same length"
          ]
        }
      ]
    },
    {
      "cell_type": "markdown",
      "source": [
        "administration support?"
      ],
      "metadata": {
        "id": "9oOEUdVCz1Gp"
      }
    },
    {
      "cell_type": "code",
      "source": [
        "see_visualization(d2008, 3)"
      ],
      "metadata": {
        "colab": {
          "base_uri": "https://localhost:8080/",
          "height": 281
        },
        "id": "Z9yUyuxpyFAw",
        "outputId": "0c27990e-5495-4676-cfe0-9f8662770ec3"
      },
      "execution_count": null,
      "outputs": [
        {
          "output_type": "display_data",
          "data": {
            "text/plain": [
              "<Figure size 432x288 with 1 Axes>"
            ],
            "image/png": "[encoded data removed]"
          },
          "metadata": {
            "needs_background": "light"
          }
        }
      ]
    },
    {
      "cell_type": "code",
      "source": [
        "see_visualization(d2014, 15)"
      ],
      "metadata": {
        "colab": {
          "base_uri": "https://localhost:8080/",
          "height": 281
        },
        "id": "ZoazEm5GyZpO",
        "outputId": "2cf1cfa0-3276-4bd1-d66d-46b4dbef02ac"
      },
      "execution_count": null,
      "outputs": [
        {
          "output_type": "display_data",
          "data": {
            "text/plain": [
              "<Figure size 432x288 with 1 Axes>"
            ],
            "image/png": "[encoded data removed]"
          },
          "metadata": {
            "needs_background": "light"
          }
        }
      ]
    },
    {
      "cell_type": "code",
      "source": [
        "x11 = (d2014.iloc[:, 15].dropna().value_counts()[0] + d2014.iloc[:, 15].dropna().value_counts()[1]) / (d2014.iloc[:, 15].dropna().size)\n",
        "x12 = d2008.iloc[:, 3].dropna().value_counts()[0] / (d2008.iloc[:, 3].dropna().size)\n",
        "data2 = np.array([x12, x11])\n",
        "years = np.array([2008, 2014])\n",
        "d2 = {'years': years, 'data': data2}\n",
        "pdb = pd.DataFrame(d2)\n",
        "sns.lineplot(x='years', y='data', data=pdb)"
      ],
      "metadata": {
        "colab": {
          "base_uri": "https://localhost:8080/",
          "height": 297
        },
        "id": "Ku8oeBhFeFRb",
        "outputId": "d2a78993-2391-42b4-ea45-5f4ad202c2e4"
      },
      "execution_count": null,
      "outputs": [
        {
          "output_type": "execute_result",
          "data": {
            "text/plain": [
              "<matplotlib.axes._subplots.AxesSubplot at 0x7ff9a79c84f0>"
            ]
          },
          "metadata": {},
          "execution_count": 23
        },
        {
          "output_type": "display_data",
          "data": {
            "text/plain": [
              "<Figure size 432x288 with 1 Axes>"
            ],
            "image/png": "[encoded data removed]"
          },
          "metadata": {
            "needs_background": "light"
          }
        }
      ]
    },
    {
      "cell_type": "markdown",
      "source": [
        "about amount of time"
      ],
      "metadata": {
        "id": "d8F1hSEJ0XxV"
      }
    },
    {
      "cell_type": "code",
      "source": [
        "see_visualization(d2008, 2)"
      ],
      "metadata": {
        "colab": {
          "base_uri": "https://localhost:8080/",
          "height": 281
        },
        "id": "vIgEjvAj0LEN",
        "outputId": "53b895d8-1b97-4ecb-d690-ce8d371d286f"
      },
      "execution_count": null,
      "outputs": [
        {
          "output_type": "display_data",
          "data": {
            "text/plain": [
              "<Figure size 432x288 with 1 Axes>"
            ],
            "image/png": "[encoded data removed]"
          },
          "metadata": {
            "needs_background": "light"
          }
        }
      ]
    },
    {
      "cell_type": "code",
      "source": [
        "see_visualization(d2014, 2)"
      ],
      "metadata": {
        "colab": {
          "base_uri": "https://localhost:8080/",
          "height": 281
        },
        "id": "VqPIOlqR0LGz",
        "outputId": "d36a998b-4818-4abc-eebc-22ddf9ff2a6e"
      },
      "execution_count": null,
      "outputs": [
        {
          "output_type": "display_data",
          "data": {
            "text/plain": [
              "<Figure size 432x288 with 1 Axes>"
            ],
            "image/png": "[encoded data removed]"
          },
          "metadata": {
            "needs_background": "light"
          }
        }
      ]
    },
    {
      "cell_type": "code",
      "source": [
        "x21 = (d2014.iloc[:, 2].dropna().value_counts()[1]) / (d2014.iloc[:, 2].dropna().size)\n",
        "x22 = d2008.iloc[:, 2].dropna().value_counts()[2] / (d2008.iloc[:, 2].dropna().size)\n",
        "data3 = np.array([x22, x21])\n",
        "years = np.array([2008, 2014])\n",
        "d3 = {'years': years, 'data': data3}\n",
        "pdc = pd.DataFrame(d3)\n",
        "sns.lineplot(x='years', y='data', data=pdc)"
      ],
      "metadata": {
        "colab": {
          "base_uri": "https://localhost:8080/",
          "height": 297
        },
        "id": "2NlTtOhARpAY",
        "outputId": "2de18fa0-a69c-4e0b-ecc0-925bd7f7f208"
      },
      "execution_count": null,
      "outputs": [
        {
          "output_type": "execute_result",
          "data": {
            "text/plain": [
              "<matplotlib.axes._subplots.AxesSubplot at 0x7ff9a73c0130>"
            ]
          },
          "metadata": {},
          "execution_count": 26
        },
        {
          "output_type": "display_data",
          "data": {
            "text/plain": [
              "<Figure size 432x288 with 1 Axes>"
            ],
            "image/png": "[encoded data removed]"
          },
          "metadata": {
            "needs_background": "light"
          }
        }
      ]
    },
    {
      "cell_type": "code",
      "source": [],
      "metadata": {
        "id": "VLMC5SkwfLiL"
      },
      "execution_count": null,
      "outputs": []
    },
    {
      "cell_type": "markdown",
      "source": [
        "know where to find resources / enough resources"
      ],
      "metadata": {
        "id": "b4yhSxQKgT4U"
      }
    },
    {
      "cell_type": "code",
      "source": [
        "see_visualization(d2014, 10)"
      ],
      "metadata": {
        "colab": {
          "base_uri": "https://localhost:8080/",
          "height": 281
        },
        "id": "s0VQ_YYogU_Q",
        "outputId": "ef1d1094-e887-441a-9812-08d1d5795b81"
      },
      "execution_count": null,
      "outputs": [
        {
          "output_type": "display_data",
          "data": {
            "text/plain": [
              "<Figure size 432x288 with 1 Axes>"
            ],
            "image/png": "[encoded data removed]"
          },
          "metadata": {
            "needs_background": "light"
          }
        }
      ]
    },
    {
      "cell_type": "code",
      "source": [
        "see_visualization(d2008, 4)"
      ],
      "metadata": {
        "colab": {
          "base_uri": "https://localhost:8080/",
          "height": 281
        },
        "id": "ZmY9Dk6cgZnW",
        "outputId": "af161d3c-38d7-4b74-e941-1d00d279e0b5"
      },
      "execution_count": null,
      "outputs": [
        {
          "output_type": "display_data",
          "data": {
            "text/plain": [
              "<Figure size 432x288 with 1 Axes>"
            ],
            "image/png": "[encoded data removed]"
          },
          "metadata": {
            "needs_background": "light"
          }
        }
      ]
    },
    {
      "cell_type": "code",
      "source": [
        "x31 = (d2014.iloc[:, 10].dropna().value_counts()[0]) / (d2014.iloc[:, 10].dropna().size)\n",
        "x32 = d2008.iloc[:, 3].dropna().value_counts()[0] / (d2008.iloc[:, 3].dropna().size)\n",
        "data4 = np.array([x32, x31])\n",
        "years = np.array([str(2008), str(2014)])\n",
        "d4 = {'years': years, 'data': data3}\n",
        "pdd = pd.DataFrame(d4)\n",
        "sns.lineplot(x='years', y='data', data=pdd)"
      ],
      "metadata": {
        "colab": {
          "base_uri": "https://localhost:8080/",
          "height": 297
        },
        "id": "CUrkIqN7ghh9",
        "outputId": "f22db114-269c-4767-de96-119ddd1e9c35"
      },
      "execution_count": null,
      "outputs": [
        {
          "output_type": "execute_result",
          "data": {
            "text/plain": [
              "<matplotlib.axes._subplots.AxesSubplot at 0x7ff9a7b769d0>"
            ]
          },
          "metadata": {},
          "execution_count": 47
        },
        {
          "output_type": "display_data",
          "data": {
            "text/plain": [
              "<Figure size 432x288 with 1 Axes>"
            ],
            "image/png": "[encoded data removed]"
          },
          "metadata": {
            "needs_background": "light"
          }
        }
      ]
    },
    {
      "cell_type": "code",
      "source": [
        "all_Data = {'years': years, \"data1\":data1, \"data2\":data2, \"data3\":data3, \"data4\":data4}\n",
        "all = pd.DataFrame(all_Data)\n",
        "sns.set(rc={'figure.figsize':(11.7,8.27)})\n",
        "fig, ax = plt.subplots()\n",
        "ax = sns.lineplot(x='years', y='data1', data=all, label = 'respond positively')\n",
        "ax1 = sns.lineplot(x='years', y='data2', data=all, label = 'administration support science teaching')\n",
        "ax = sns.lineplot(x='years', y='data3', data=all, label = 'amount of time for science teaching is enough')\n",
        "ax = sns.lineplot(x='years', y='data4', data=all, label = 'enough and available resources')\n",
        "plt.ylabel('percentage of yes')\n",
        "ax.legend()"
      ],
      "metadata": {
        "id": "-Tp85r0RgwlV",
        "colab": {
          "base_uri": "https://localhost:8080/",
          "height": 535
        },
        "outputId": "22602b48-7ca8-4e75-8f87-3321cfef2083"
      },
      "execution_count": null,
      "outputs": [
        {
          "output_type": "execute_result",
          "data": {
            "text/plain": [
              "<matplotlib.legend.Legend at 0x7ff9a7ab2940>"
            ]
          },
          "metadata": {},
          "execution_count": 59
        },
        {
          "output_type": "display_data",
          "data": {
            "text/plain": [
              "<Figure size 842.4x595.44 with 1 Axes>"
            ],
            "image/png": "[encoded data removed]"
          },
          "metadata": {}
        }
      ]
    },
    {
      "cell_type": "code",
      "source": [],
      "metadata": {
        "id": "lmn_JER9BXRI"
      },
      "execution_count": null,
      "outputs": []
    }
  ]
}